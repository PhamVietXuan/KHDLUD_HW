{
  "nbformat": 4,
  "nbformat_minor": 0,
  "metadata": {
    "colab": {
      "name": "HW1.ipynb",
      "provenance": [],
      "collapsed_sections": []
    },
    "kernelspec": {
      "name": "python3",
      "display_name": "Python 3"
    },
    "accelerator": "GPU"
  },
  "cells": [
    {
      "cell_type": "markdown",
      "metadata": {
        "id": "eGBgThS8q8k3"
      },
      "source": [
        "Họ tên: Phạm Viết Xuân\n",
        "\n",
        "MSSV: 18120658"
      ]
    },
    {
      "cell_type": "markdown",
      "metadata": {
        "id": "7qdrvDrCrnqz"
      },
      "source": [
        "# HW1: Giới thiệu CUDA"
      ]
    },
    {
      "cell_type": "markdown",
      "metadata": {
        "id": "VKXB0wA7yhq9"
      },
      "source": [
        "Với các GPU tương đối mới thì để biên dịch chỉ cần dùng câu lệnh: \\\n",
        "`nvcc tên-file.cu -o tên-file-chạy`\n",
        "\n",
        "Nhưng trên Colab mình thường lấy được GPU khá cũ là Tesla K80 với compute capability (phiên bản phần cứng) là 3.7; để biên dịch đúng với GPU khá cũ này thì bạn cần dùng câu lệnh: \\\n",
        "`nvcc -arch=sm_37 tên-file.cu -o tên-file-chạy` \\\n",
        "Trong đó, 37 chính là compute capability của GPU Tesla K80.\n",
        "\n",
        "Để phòng trường hợp khi làm bài bạn lấy được GPU có compute capability x.x nhưng khi chấm bài Thầy lại lấy được GPU có compute capability khác x.x, dưới đây mình sẽ có đoạn code Python để tự động lấy 2 con số ứng với compute capability của GPU và lưu vào 2 biến `major` và `minor`:\n"
      ]
    },
    {
      "cell_type": "code",
      "metadata": {
        "id": "bCkmnirl2xWF",
        "colab": {
          "base_uri": "https://localhost:8080/"
        },
        "outputId": "a6340a7e-c085-471f-a84c-bb1a7f4e3468"
      },
      "source": [
        "from numba import cuda\n",
        "major, minor = cuda.get_current_device().compute_capability\n",
        "print(f'GPU compute capability: {major}.{minor}')"
      ],
      "execution_count": 48,
      "outputs": [
        {
          "output_type": "stream",
          "name": "stdout",
          "text": [
            "GPU compute capability: 3.7\n"
          ]
        }
      ]
    },
    {
      "cell_type": "markdown",
      "metadata": {
        "id": "Tq1-pmi72yS6"
      },
      "source": [
        "Một khi đã chạy đoạn code Python ở trên, để biên dịch thì bạn sẽ dùng câu lệnh: \\\n",
        "`nvcc -arch=sm_{major}{minor} tên-file.cu -o tên-file-chạy`"
      ]
    },
    {
      "cell_type": "markdown",
      "metadata": {
        "id": "QkZaH7EE-ocN"
      },
      "source": [
        "Dưới đây, khi làm bài thì bạn có thể tùy ý thêm/xóa cell. Đừng xóa mấy cell có chữ của Thầy là được."
      ]
    },
    {
      "cell_type": "markdown",
      "metadata": {
        "id": "DH9lSjFfr3Kw"
      },
      "source": [
        "## Câu 1"
      ]
    },
    {
      "cell_type": "code",
      "metadata": {
        "id": "aZNqZuECjNso",
        "colab": {
          "base_uri": "https://localhost:8080/"
        },
        "outputId": "0e6c4a5c-e56b-42db-c41a-ed1d4e8dca72"
      },
      "source": [
        "!nvcc -arch=sm_37 HW1_P1.cu -o HW1_P1 "
      ],
      "execution_count": 49,
      "outputs": [
        {
          "output_type": "stream",
          "name": "stdout",
          "text": [
            "nvcc warning : The 'compute_35', 'compute_37', 'compute_50', 'sm_35', 'sm_37' and 'sm_50' architectures are deprecated, and may be removed in a future release (Use -Wno-deprecated-gpu-targets to suppress warning).\n"
          ]
        }
      ]
    },
    {
      "cell_type": "code",
      "metadata": {
        "colab": {
          "base_uri": "https://localhost:8080/"
        },
        "id": "2zl1gsOlIGNk",
        "outputId": "eb769b14-50cc-4c59-a249-136d4993aff4"
      },
      "source": [
        "!./HW1_P1 in.pnm out.pnm 16 16"
      ],
      "execution_count": 50,
      "outputs": [
        {
          "output_type": "stream",
          "name": "stdout",
          "text": [
            "Image size (width x height): 512 x 512\n",
            "\n",
            "Processing time (use host): 2.930048 ms\n",
            "\n",
            "GPU name: Tesla K80\n",
            "GPU compute capability: 3.7\n",
            "Processing time (use device): 1.020096 ms\n",
            "\n",
            "Error between device result and host result: 0.002674\n"
          ]
        }
      ]
    },
    {
      "cell_type": "code",
      "metadata": {
        "colab": {
          "base_uri": "https://localhost:8080/"
        },
        "id": "-AweG7FoIO0z",
        "outputId": "c9a671db-cb61-427c-fe74-0272e71bcf39"
      },
      "source": [
        "!./HW1_P1 in.pnm out.pnm 32 32"
      ],
      "execution_count": 51,
      "outputs": [
        {
          "output_type": "stream",
          "name": "stdout",
          "text": [
            "Image size (width x height): 512 x 512\n",
            "\n",
            "Processing time (use host): 2.865696 ms\n",
            "\n",
            "GPU name: Tesla K80\n",
            "GPU compute capability: 3.7\n",
            "Processing time (use device): 1.069600 ms\n",
            "\n",
            "Error between device result and host result: 0.002674\n"
          ]
        }
      ]
    },
    {
      "cell_type": "code",
      "metadata": {
        "colab": {
          "base_uri": "https://localhost:8080/"
        },
        "id": "me6waMRgIPb5",
        "outputId": "dcfd41d7-1187-42e7-f1c4-a891f515069b"
      },
      "source": [
        "!./HW1_P1 in.pnm out.pnm 64 64"
      ],
      "execution_count": 52,
      "outputs": [
        {
          "output_type": "stream",
          "name": "stdout",
          "text": [
            "Image size (width x height): 512 x 512\n",
            "\n",
            "Processing time (use host): 2.702848 ms\n",
            "\n",
            "GPU name: Tesla K80\n",
            "GPU compute capability: 3.7\n",
            "Sync kernel error: invalid configuration argument\n",
            "Processing time (use device): 0.968416 ms\n",
            "\n",
            "Error between device result and host result: 119.969627\n"
          ]
        }
      ]
    },
    {
      "cell_type": "markdown",
      "metadata": {
        "id": "bUi67MX7IL_S"
      },
      "source": [
        "Với BlockSize là 64x64, ta thấy có lỗi \"**invalid configuration argument**\" và kết quả sai. Bởi vì kích thước tối đa 1024 thread/block nên khi ta truyền vào blockSize = 64*64 > 1024 nên sẽ báo lỗi."
      ]
    },
    {
      "cell_type": "markdown",
      "metadata": {
        "id": "XlycLWxberDO"
      },
      "source": [
        "## Câu 2"
      ]
    },
    {
      "cell_type": "code",
      "metadata": {
        "id": "gE-rY5TesEFe",
        "colab": {
          "base_uri": "https://localhost:8080/"
        },
        "outputId": "aac7a9a4-208e-4fe2-ee72-f435aa37bb36"
      },
      "source": [
        "!nvcc -arch=sm_37 HW1_P2.cu -o HW1_P2\n"
      ],
      "execution_count": 53,
      "outputs": [
        {
          "output_type": "stream",
          "name": "stdout",
          "text": [
            "nvcc warning : The 'compute_35', 'compute_37', 'compute_50', 'sm_35', 'sm_37' and 'sm_50' architectures are deprecated, and may be removed in a future release (Use -Wno-deprecated-gpu-targets to suppress warning).\n"
          ]
        }
      ]
    },
    {
      "cell_type": "code",
      "metadata": {
        "colab": {
          "base_uri": "https://localhost:8080/"
        },
        "id": "X4ZVS1SRMJlM",
        "outputId": "26663288-4469-4efd-e55d-8e32bcb99577"
      },
      "source": [
        "!./HW1_P2 in.pnm out.pnm out2_target.pnm 16 16"
      ],
      "execution_count": 54,
      "outputs": [
        {
          "output_type": "stream",
          "name": "stdout",
          "text": [
            "Image size (width x height): 512 x 512\n",
            "\n",
            "Processing time (use host): 485.444458 ms\n",
            "Error: 0.000000\n",
            "\n",
            "GPU name: Tesla K80\n",
            "GPU compute capability: 3.7\n",
            "Processing time (use device): 11.411232 ms\n",
            "Error: 0.000703\n",
            "\n"
          ]
        }
      ]
    },
    {
      "cell_type": "code",
      "metadata": {
        "colab": {
          "base_uri": "https://localhost:8080/"
        },
        "id": "3_JqXO61Q_Ll",
        "outputId": "60fa274f-2d21-48bb-a5a8-c8c9ef65bbac"
      },
      "source": [
        "!./HW1_P2 in.pnm out.pnm out2_target.pnm 32 32"
      ],
      "execution_count": 55,
      "outputs": [
        {
          "output_type": "stream",
          "name": "stdout",
          "text": [
            "Image size (width x height): 512 x 512\n",
            "\n",
            "Processing time (use host): 502.571716 ms\n",
            "Error: 0.000000\n",
            "\n",
            "GPU name: Tesla K80\n",
            "GPU compute capability: 3.7\n",
            "Processing time (use device): 20.935616 ms\n",
            "Error: 0.000703\n",
            "\n"
          ]
        }
      ]
    },
    {
      "cell_type": "code",
      "metadata": {
        "colab": {
          "base_uri": "https://localhost:8080/"
        },
        "id": "UO7g7gIdMM5a",
        "outputId": "d80ae879-40a3-4881-8e16-06d0e2ded096"
      },
      "source": [
        "!./HW1_P2 in.pnm out.pnm out2_target.pnm 64 64"
      ],
      "execution_count": 56,
      "outputs": [
        {
          "output_type": "stream",
          "name": "stdout",
          "text": [
            "Image size (width x height): 512 x 512\n",
            "\n",
            "Processing time (use host): 491.088776 ms\n",
            "Error: 0.000000\n",
            "\n",
            "GPU name: Tesla K80\n",
            "GPU compute capability: 3.7\n",
            "Sync kernel error: invalid configuration argument\n",
            "Processing time (use device): 1.696448 ms\n",
            "Error: 124.033791\n",
            "\n"
          ]
        }
      ]
    },
    {
      "cell_type": "markdown",
      "metadata": {
        "id": "9mMcsAZPNPKk"
      },
      "source": [
        "Tương tự câu trả lời cở phần 1, khi chạy phần 2 với blockSize 64*64 thì ta cũng gặp lỗi \"invalid configuration argument\" vì kích thước này lớn hơn số thread tối đa của 1 block."
      ]
    }
  ]
}